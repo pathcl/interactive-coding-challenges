{
 "cells": [
  {
   "cell_type": "markdown",
   "metadata": {},
   "source": [
    "<small><i>This notebook was prepared by [Donne Martin](https://github.com/donnemartin). Source and license info is on [GitHub](https://github.com/donnemartin/interactive-coding-challenges).</i></small>"
   ]
  },
  {
   "cell_type": "markdown",
   "metadata": {},
   "source": [
    "# Solution Notebook"
   ]
  },
  {
   "cell_type": "markdown",
   "metadata": {},
   "source": [
    "## Problem: Check if a binary tree is balanced.\n",
    "\n",
    "* [Constraints](#Constraints)\n",
    "* [Test Cases](#Test-Cases)\n",
    "* [Algorithm](#Algorithm)\n",
    "* [Code](#Code)\n",
    "* [Unit Test](#Unit-Test)"
   ]
  },
  {
   "cell_type": "markdown",
   "metadata": {},
   "source": [
    "## Constraints\n",
    "\n",
    "* Is a balanced tree one where the heights of two sub trees of any node doesn't differ by more than 1?\n",
    "    * Yes\n",
    "* If this is called on a None input, should we raise an exception?\n",
    "    * Yes\n",
    "* Can we assume we already have a Node class with an insert method?\n",
    "    * Yes\n",
    "* Can we assume this fits memory?\n",
    "    * Yes"
   ]
  },
  {
   "cell_type": "markdown",
   "metadata": {},
   "source": [
    "## Test Cases\n",
    "\n",
    "* None -> No\n",
    "* 1 -> Yes\n",
    "* 5, 3, 8, 1, 4 -> Yes\n",
    "* 5, 3, 8, 9, 10 -> No"
   ]
  },
  {
   "cell_type": "markdown",
   "metadata": {},
   "source": [
    "## Algorithm\n",
    "\n",
    "The algorithm will be similar to where we get the height of a tree as seen in [here](http://nbviewer.ipython.org/github/donnemartin/interactive-coding-challenges/blob/master/graphs_trees/tree_height/height_solution.ipynb).\n",
    "\n",
    "However, we could check whether the tree is balanced while also checking for the heights.\n",
    "\n",
    "* Base case: If the root is None, return 0\n",
    "* Recursively check whether the left sub tree is balanced, and get its maximum and minimum height\n",
    "* Recursively Check whether the right sub tree is balanced, and get its maximum and minimum height\n",
    "* Calculate the maximum height and minimum height of the current tree\n",
    "* If both sub-trees are balanced, and the maximum and minimum height of the current tree doesn't differ by more than 1, then the current tree is balanced. Otherwise, it is not\n",
    "* Return whether the current tree is balanced, and the maximum height and minimum height of the current tree\n",
    "    \n",
    "Complexity:\n",
    "* Time: O(n)\n",
    "* Space: O(h), where h is the height of the tree"
   ]
  },
  {
   "cell_type": "markdown",
   "metadata": {},
   "source": [
    "## Code"
   ]
  },
  {
   "cell_type": "code",
   "execution_count": 1,
   "metadata": {
    "collapsed": true
   },
   "outputs": [],
   "source": [
    "%run ../bst/bst.py"
   ]
  },
  {
   "cell_type": "code",
   "execution_count": 2,
   "metadata": {
    "collapsed": false
   },
   "outputs": [],
   "source": [
    "def _check_balance(root):\n",
    "    if root is None:\n",
    "        return (True, 0, 0)\n",
    "    left_balanced, left_min_h, left_max_h = _check_balance(root.left)\n",
    "    right_balanced, right_min_h, right_max_h = _check_balance(root.right)\n",
    "    min_h = 1 + min(left_min_h, right_min_h)\n",
    "    max_h = 1 + max(left_max_h, right_max_h)\n",
    "    balanced = left_balanced and right_balanced and abs(max_h-min_h) <= 1\n",
    "    return (balanced, min_h, max_h)\n",
    "\n",
    "\n",
    "def check_balance(root):\n",
    "    if root is None:\n",
    "        raise Exception('No root node')\n",
    "    balanced, _, _ = _check_balance(root)\n",
    "    return balanced"
   ]
  },
  {
   "cell_type": "markdown",
   "metadata": {},
   "source": [
    "## Unit Test"
   ]
  },
  {
   "cell_type": "code",
   "execution_count": 3,
   "metadata": {
    "collapsed": false
   },
   "outputs": [
    {
     "name": "stdout",
     "output_type": "stream",
     "text": [
      "Overwriting test_check_balance.py\n"
     ]
    }
   ],
   "source": [
    "%%writefile test_check_balance.py\n",
    "from nose.tools import assert_equal\n",
    "from nose.tools import raises\n",
    "\n",
    "\n",
    "class TestCheckBalance(object):\n",
    "\n",
    "    @raises(Exception)\n",
    "    def test_check_balance_empty(self):\n",
    "        check_balance(None)\n",
    "\n",
    "    def test_check_balance(self):\n",
    "        node = Node(5)\n",
    "        assert_equal(check_balance(node), True)\n",
    "\n",
    "        insert(node, 3)\n",
    "        insert(node, 8)\n",
    "        insert(node, 1)\n",
    "        insert(node, 4)\n",
    "        assert_equal(check_balance(node), True)\n",
    "\n",
    "        node = Node(5)\n",
    "        insert(node, 3)\n",
    "        insert(node, 8)\n",
    "        insert(node, 9)\n",
    "        insert(node, 10)\n",
    "        assert_equal(check_balance(node), False)\n",
    "\n",
    "        node = Node(3)\n",
    "        insert(node, 2)\n",
    "        insert(node, 1)\n",
    "        insert(node, 5)\n",
    "        insert(node, 4)\n",
    "        insert(node, 6)\n",
    "        insert(node, 7)\n",
    "        assert_equal(check_balance(node), False)\n",
    "\n",
    "        print('Success: test_check_balance')\n",
    "\n",
    "\n",
    "def main():\n",
    "    test = TestCheckBalance()\n",
    "    test.test_check_balance_empty()\n",
    "    test.test_check_balance()\n",
    "\n",
    "\n",
    "if __name__ == '__main__':\n",
    "    main()"
   ]
  },
  {
   "cell_type": "code",
   "execution_count": 4,
   "metadata": {
    "collapsed": false
   },
   "outputs": [
    {
     "name": "stdout",
     "output_type": "stream",
     "text": [
      "Success: test_check_balance\n"
     ]
    }
   ],
   "source": [
    "%run -i test_check_balance.py"
   ]
  }
 ],
 "metadata": {
  "kernelspec": {
   "display_name": "Python 3",
   "language": "python",
   "name": "python3"
  },
  "language_info": {
   "codemirror_mode": {
    "name": "ipython",
    "version": 3
   },
   "file_extension": ".py",
   "mimetype": "text/x-python",
   "name": "python",
   "nbconvert_exporter": "python",
   "pygments_lexer": "ipython3",
   "version": "3.5.0"
  }
 },
 "nbformat": 4,
 "nbformat_minor": 0
}
